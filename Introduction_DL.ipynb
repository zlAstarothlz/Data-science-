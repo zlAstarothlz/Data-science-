{
  "nbformat": 4,
  "nbformat_minor": 0,
  "metadata": {
    "kernelspec": {
      "display_name": "Python 3",
      "language": "python",
      "name": "python3"
    },
    "language_info": {
      "codemirror_mode": {
        "name": "ipython",
        "version": 3
      },
      "file_extension": ".py",
      "mimetype": "text/x-python",
      "name": "python",
      "nbconvert_exporter": "python",
      "pygments_lexer": "ipython3",
      "version": "3.7.6"
    },
    "colab": {
      "provenance": []
    },
    "accelerator": "GPU",
    "gpuClass": "standard"
  },
  "cells": [
    {
      "cell_type": "markdown",
      "metadata": {
        "id": "8SaSInnK0Z-5"
      },
      "source": [
        "# Introducción a las redes neuronales profundas\n",
        "\n",
        "- Se presentan los principios básicos de funcionamiento de las redes neuronales a partir del perceptrón simple hasta perceptrones multicapa.\n",
        "\n",
        "- Se implementan arquitecturas secuenciales utilizando la librería [TensorFlow](https://www.tensorflow.org/overview?hl=es-419) y la [API Keras](https://keras.io/)."
      ]
    },
    {
      "cell_type": "markdown",
      "metadata": {
        "id": "hNX1RPc_1B0s"
      },
      "source": [
        "## Perceptrón\n",
        "\n",
        "- El perceptrón presenta un modelo lineal de la forma:\n",
        "\n",
        "$$\\hat{y} = {\\rm{sign}}(\\mathbf{w}^\\top \\mathbf{x}) $$\n",
        "\n",
        "- Para optimizarlo, se plantea un algoritmo de gradiente descendiente estocástico:\n",
        "\n",
        "$$\\mathbf{w}^* = \\arg\\max_{\\mathbf{w}} - \\sum_{\\mathbf{x}_n\\in \\mathbf{X}}\\langle \\mathbf{w}^\\top \\mathbf{x}_n ,y_n\\rangle$$\n",
        "\n",
        "$$\\mathbf{w}_i =\\mathbf{w}_{i-1}-\\eta_i \\mathbf{x}_ny_n$$\n",
        "\n",
        "donde $\\mathbf{x}_n,\\mathbf{w}\\in\\mathbb{R}^P$ corresponde a la $n$-ésima muestra y al vector de pesos; $y_n\\in\\{-1,+1\\}$ son las etiquetas objetivo, y $\\eta_i\\in \\mathbb{R}^+$ es el hiperparámetro tasa de aprendizaje (learning rate)."
      ]
    },
    {
      "cell_type": "markdown",
      "metadata": {
        "id": "XByP4Wyx1B0s"
      },
      "source": [
        "**Scikit-Learn** proporciona una clase *Perceptron* que implementa una única red."
      ]
    },
    {
      "cell_type": "code",
      "metadata": {
        "id": "6SySVUDl1B0s",
        "colab": {
          "base_uri": "https://localhost:8080/"
        },
        "outputId": "2f2917fc-a4ea-48fa-a489-3683e3f5be8b"
      },
      "source": [
        "import numpy as np\n",
        "from sklearn.datasets import load_iris\n",
        "from sklearn.linear_model import Perceptron\n",
        "\n",
        "iris = load_iris()\n",
        "X    = iris.data[:, (2, 3)]  # petal length, petal width\n",
        "y    = (iris.target == 0).astype(np.int)\n",
        "\n",
        "per_clf = Perceptron(max_iter=1000, tol=1e-3, random_state=42)\n",
        "per_clf.fit(X, y)\n",
        "\n",
        "y_pred = per_clf.predict([[2, 0.5]])\n",
        "print(X.shape)\n",
        "print(y.shape)"
      ],
      "execution_count": null,
      "outputs": [
        {
          "output_type": "stream",
          "name": "stdout",
          "text": [
            "(150, 2)\n",
            "(150,)\n"
          ]
        },
        {
          "output_type": "stream",
          "name": "stderr",
          "text": [
            "<ipython-input-1-3068e1f8e491>:7: DeprecationWarning: `np.int` is a deprecated alias for the builtin `int`. To silence this warning, use `int` by itself. Doing this will not modify any behavior and is safe. When replacing `np.int`, you may wish to use e.g. `np.int64` or `np.int32` to specify the precision. If you wish to review your current use, check the release note link for additional information.\n",
            "Deprecated in NumPy 1.20; for more details and guidance: https://numpy.org/devdocs/release/1.20.0-notes.html#deprecations\n",
            "  y    = (iris.target == 0).astype(np.int)\n"
          ]
        }
      ]
    },
    {
      "cell_type": "code",
      "source": [
        "y"
      ],
      "metadata": {
        "colab": {
          "base_uri": "https://localhost:8080/"
        },
        "id": "tHzKvk3mne1S",
        "outputId": "e2426d8e-6349-45a3-8dbb-5d53f18c7c17"
      },
      "execution_count": null,
      "outputs": [
        {
          "output_type": "execute_result",
          "data": {
            "text/plain": [
              "array([1, 1, 1, 1, 1, 1, 1, 1, 1, 1, 1, 1, 1, 1, 1, 1, 1, 1, 1, 1, 1, 1,\n",
              "       1, 1, 1, 1, 1, 1, 1, 1, 1, 1, 1, 1, 1, 1, 1, 1, 1, 1, 1, 1, 1, 1,\n",
              "       1, 1, 1, 1, 1, 1, 0, 0, 0, 0, 0, 0, 0, 0, 0, 0, 0, 0, 0, 0, 0, 0,\n",
              "       0, 0, 0, 0, 0, 0, 0, 0, 0, 0, 0, 0, 0, 0, 0, 0, 0, 0, 0, 0, 0, 0,\n",
              "       0, 0, 0, 0, 0, 0, 0, 0, 0, 0, 0, 0, 0, 0, 0, 0, 0, 0, 0, 0, 0, 0,\n",
              "       0, 0, 0, 0, 0, 0, 0, 0, 0, 0, 0, 0, 0, 0, 0, 0, 0, 0, 0, 0, 0, 0,\n",
              "       0, 0, 0, 0, 0, 0, 0, 0, 0, 0, 0, 0, 0, 0, 0, 0, 0, 0])"
            ]
          },
          "metadata": {},
          "execution_count": 4
        }
      ]
    },
    {
      "cell_type": "code",
      "metadata": {
        "id": "rbzY3xip1B0s",
        "colab": {
          "base_uri": "https://localhost:8080/"
        },
        "outputId": "6ecad80d-57aa-4198-8a8f-bdb15be3f241"
      },
      "source": [
        "y_pred"
      ],
      "execution_count": null,
      "outputs": [
        {
          "output_type": "execute_result",
          "data": {
            "text/plain": [
              "array([1])"
            ]
          },
          "metadata": {},
          "execution_count": 3
        }
      ]
    },
    {
      "cell_type": "markdown",
      "metadata": {
        "id": "yR8hVhE29G85"
      },
      "source": [
        "- Se presenta la frontera de decisión mediante la curva $f(\\mathbf{x})=0$."
      ]
    },
    {
      "cell_type": "code",
      "metadata": {
        "id": "PXlu1cTt1B0s",
        "colab": {
          "base_uri": "https://localhost:8080/",
          "height": 287
        },
        "outputId": "5f43af43-386b-4ff6-828b-2193c009c34c"
      },
      "source": [
        "# Graficar fronteras de decisión\n",
        "#---------------------------\n",
        "%matplotlib inline\n",
        "import matplotlib.pyplot as plt\n",
        "\n",
        "a      = -per_clf.coef_[0][0] / per_clf.coef_[0][1]\n",
        "b      = -per_clf.intercept_ / per_clf.coef_[0][1]\n",
        "axes   = [0, 5, 0, 2]\n",
        "x0, x1 = np.meshgrid(\n",
        "        np.linspace(axes[0], axes[1], 500).reshape(-1, 1),\n",
        "        np.linspace(axes[2], axes[3], 200).reshape(-1, 1),\n",
        "    )\n",
        "X_new     = np.c_[x0.ravel(), x1.ravel()]\n",
        "y_predict = per_clf.predict(X_new)\n",
        "zz        = y_predict.reshape(x0.shape)\n",
        "\n",
        "plt.figure(figsize=(10, 4))\n",
        "plt.plot(X[y==0, 0], X[y==0, 1], \"bs\", label=\"Not Iris-Setosa\")\n",
        "plt.plot(X[y==1, 0], X[y==1, 1], \"yo\", label=\"Iris-Setosa\")\n",
        "\n",
        "plt.plot([axes[0], axes[1]], [a * axes[0] + b, a * axes[1] + b], \"k-\", linewidth=3)\n",
        "\n",
        "from matplotlib.colors import ListedColormap\n",
        "custom_cmap = ListedColormap(['#9898ff', '#fafab0'])\n",
        "\n",
        "plt.contourf(x0, x1, zz, cmap=custom_cmap)\n",
        "plt.xlabel(\"Petal length\", fontsize=14)\n",
        "plt.ylabel(\"Petal width\", fontsize=14)\n",
        "plt.legend(loc=\"lower right\", fontsize=14)\n",
        "plt.axis(axes)\n",
        "\n",
        "#save_fig(\"perceptron_iris_plot\")\n",
        "plt.show()"
      ],
      "execution_count": null,
      "outputs": [
        {
          "output_type": "display_data",
          "data": {
            "text/plain": [
              "<Figure size 720x288 with 1 Axes>"
            ],
            "image/png": "[encoded data removed]"
          },
          "metadata": {
            "needs_background": "light"
          }
        }
      ]
    },
    {
      "cell_type": "markdown",
      "metadata": {
        "id": "HlRoX5i21B0s"
      },
      "source": [
        "El **algoritmo de aprendizaje** de Perceptron se parece mucho al **SGD**. De hecho, la clase de *Perceptron* de Scikit-Learn es equivalente a usar *SGDClassifier* con los siguientes hiperparámetros:\n",
        "- *loss*          = \"perceptron\",\n",
        "- *learning_rate* = \"constant\",\n",
        "- *eta0*          = 1 (la tasa de aprendizaje) y\n",
        "- *penalty*       = \"None\" (sin regularización)."
      ]
    },
    {
      "cell_type": "markdown",
      "metadata": {
        "id": "NaDKRRFj1B0t"
      },
      "source": [
        "- Tengamos en cuenta que, al **contrario de los clasificadores de regresión logística**, los perceptrones **no generan una probabilidad de clase; más bien, solo hacen predicciones basadas en un umbral de decisión - distancia a la frontera**.\n",
        "\n",
        "- Esta es una de las buenas razones para preferir la Regresión logística sobre los Perceptrones."
      ]
    },
    {
      "cell_type": "markdown",
      "metadata": {
        "id": "mIvP8USV1B0t"
      },
      "source": [
        "## Funciones de activación\n",
        "\n",
        "- En general, un modelo de redes neuronales profundas, se pueden ver como una función compuesta, mediante productos lineales en cascada con funciones de activación no lineal.\n",
        "\n",
        "- La función signo y la función escalón, presentan discontinuidades de primer orden, lo que inestabiliza sus gradientes.\n",
        "\n",
        "- Por ende, se prefiere trabajar con funciones sigmoide, relu, y tanh:\n",
        "\n",
        "  $${\\rm{sigmoid}}(x)=\\frac{1}{1+e^{-x}}$$\n",
        "\n",
        "  $${\\rm{relu}}(x)=\\max(0,x)$$\n",
        "\n",
        "  $${\\rm{tanh}}(x)=\\frac{e^x-e^{-x}}{e^x+e^{-x}}$$\n"
      ]
    },
    {
      "cell_type": "code",
      "metadata": {
        "id": "r_5NTAfO1B0t"
      },
      "source": [
        "def sigmoid(z):\n",
        "    return 1 / (1 + np.exp(-z))\n",
        "\n",
        "def relu(z):\n",
        "    return np.maximum(0, z)\n",
        "\n",
        "def derivative(f, z, eps=0.000001):#se presentan las derivadas numéricas\n",
        "    return (f(z + eps) - f(z - eps))/(2 * eps)"
      ],
      "execution_count": null,
      "outputs": []
    },
    {
      "cell_type": "code",
      "metadata": {
        "id": "p1cb1VqR1B0t",
        "colab": {
          "base_uri": "https://localhost:8080/",
          "height": 282
        },
        "outputId": "11e53a88-c14e-4ddc-c68f-33b974be893b"
      },
      "source": [
        "z = np.linspace(-5, 5, 200)\n",
        "\n",
        "plt.figure(figsize=(11,4))\n",
        "\n",
        "plt.subplot(121)\n",
        "plt.plot(z, np.sign(z), \"r-\", linewidth=1, label=\"Step\")\n",
        "plt.plot(z, sigmoid(z), \"g--\", linewidth=2, label=\"Sigmoid\")\n",
        "plt.plot(z, np.tanh(z), \"b-\", linewidth=2, label=\"Tanh\")\n",
        "plt.plot(z, relu(z), \"m-.\", linewidth=2, label=\"ReLU\")\n",
        "plt.grid(True)\n",
        "plt.legend(loc=\"center right\", fontsize=14)\n",
        "plt.title(\"Activation functions\", fontsize=14)\n",
        "plt.axis([-5, 5, -1.2, 1.2])\n",
        "\n",
        "plt.subplot(122)\n",
        "plt.plot(z, derivative(np.sign, z), \"r-\", linewidth=1, label=\"Step\")\n",
        "plt.plot(0, 0, \"ro\", markersize=5)\n",
        "plt.plot(0, 0, \"rx\", markersize=10)\n",
        "plt.plot(z, derivative(sigmoid, z), \"g--\", linewidth=2, label=\"Sigmoid\")\n",
        "plt.plot(z, derivative(np.tanh, z), \"b-\", linewidth=2, label=\"Tanh\")\n",
        "plt.plot(z, derivative(relu, z), \"m-.\", linewidth=2, label=\"ReLU\")\n",
        "plt.grid(True)\n",
        "#plt.legend(loc=\"center right\", fontsize=14)\n",
        "plt.title(\"Derivatives\", fontsize=14)\n",
        "plt.axis([-5, 5, -0.2, 1.2])\n",
        "\n",
        "#save_fig(\"activation_functions_plot\")\n",
        "plt.show()"
      ],
      "execution_count": null,
      "outputs": [
        {
          "output_type": "display_data",
          "data": {
            "image/png": "[encoded data removed]",
            "text/plain": [
              "<Figure size 792x288 with 2 Axes>"
            ]
          },
          "metadata": {
            "needs_background": "light"
          }
        }
      ]
    },
    {
      "cell_type": "markdown",
      "source": [
        "# Del perceptrón simple al perceptrón multicapa y las redes profundas.\n",
        "\n",
        "- Utilizando el mismo  principio del perceptrón, se pueden apilar varias capas (perceptrón multicapa) para mejorar la representación de los datos:\n",
        "\n",
        "![mlp](https://github.com/amalvarezme/AnaliticaDatos/blob/master/5_Aprendizaje_Profundo/mlp.png?raw=1)\n",
        "\n",
        "- En este sentido, una buena combianción de capas y neuronas (depurar el espacio de representación) junto con activación apropiadas (codificar patrones no lineales), permite encontrar estructuras relevantes de datos bajo un esquema de optimización por gradiente descendiente (escalable y paralelizable).\n",
        "\n",
        "- Ver [plataforma playground TensorFlow](https://playground.tensorflow.org/) para manipular distintas configuración del perceptrón multicapa.\n",
        "\n",
        "- En general, la capacidad de representación de los modelos profundos (deep learning por sus siglas en inglés), al apilar distintas capas, neuronas, y activación, se soporta bajo cuatro aspectos principales:\n",
        "\n",
        "  -- Buena disponibilidad de datos de proceso.\n",
        "\n",
        "  -- Optimización mediante gradiente descendiente y el algoritmo backpropagation.\n",
        "\n",
        "  -- Paralelización de los procesos de optimización mediante, [CPU](https://en.wikipedia.org/wiki/Central_processing_unit), [GPU](https://en.wikipedia.org/wiki/Graphics_processing_unit) y [TPU](https://en.wikipedia.org/wiki/Tensor_Processing_Unit).\n",
        "\n",
        "  -- **NO** se requiere calcular derivadas simbólicas, en cambio, se estiman mediante [derivación automática](https://github.com/amalvarezme/AnaliticaDatos/blob/master/5_Aprendizaje_Profundo/2_Autodiff.pdf)"
      ],
      "metadata": {
        "id": "srveVnS4PaBV"
      }
    },
    {
      "cell_type": "markdown",
      "metadata": {
        "id": "THy4H-Bp1B0t"
      },
      "source": [
        "## Construyendo un clasificador de imágenes"
      ]
    },
    {
      "cell_type": "markdown",
      "metadata": {
        "id": "ZHUWUpMF1B0t"
      },
      "source": [
        "- Ahora extenderemos el perceptrón simple, a arquitecturas más complejas que puedan ser paralelizadas mediante GPU utilizando TensorFlow y Keras, y que además permitan el cálculo automático de las derivadas."
      ]
    },
    {
      "cell_type": "code",
      "metadata": {
        "id": "qixVppb61B0t"
      },
      "source": [
        "import tensorflow as tf\n",
        "from tensorflow import keras"
      ],
      "execution_count": null,
      "outputs": []
    },
    {
      "cell_type": "code",
      "metadata": {
        "id": "9-y1bR8v1B0t",
        "colab": {
          "base_uri": "https://localhost:8080/",
          "height": 35
        },
        "outputId": "8c32f862-e0a5-49fc-a88a-45f8c90df947"
      },
      "source": [
        "tf.__version__"
      ],
      "execution_count": null,
      "outputs": [
        {
          "output_type": "execute_result",
          "data": {
            "text/plain": [
              "'2.9.2'"
            ],
            "application/vnd.google.colaboratory.intrinsic+json": {
              "type": "string"
            }
          },
          "metadata": {},
          "execution_count": 7
        }
      ]
    },
    {
      "cell_type": "code",
      "metadata": {
        "id": "PE0Dq-Pt1B0t",
        "colab": {
          "base_uri": "https://localhost:8080/",
          "height": 35
        },
        "outputId": "5b15dc79-351d-488e-b736-3f47a6cde768"
      },
      "source": [
        "keras.__version__"
      ],
      "execution_count": null,
      "outputs": [
        {
          "output_type": "execute_result",
          "data": {
            "text/plain": [
              "'2.9.0'"
            ],
            "application/vnd.google.colaboratory.intrinsic+json": {
              "type": "string"
            }
          },
          "metadata": {},
          "execution_count": 8
        }
      ]
    },
    {
      "cell_type": "markdown",
      "metadata": {
        "id": "bgOl7yi91B0t"
      },
      "source": [
        "- Comencemos cargando el conjunto de datos **Fashion MNIST**.\n",
        "\n",
        "- Keras tiene una serie de funciones para cargar conjuntos de datos populares en *keras.datasets*.\n",
        "\n",
        "- El conjunto de datos ya está dividido entre un **conjunto de entrenamiento** y un **conjunto de prueba**, pero puede ser útil dividir aún más el conjunto de entrenamiento para tener un **conjunto de validación**:"
      ]
    },
    {
      "cell_type": "code",
      "metadata": {
        "id": "UKNCE16r1B0u",
        "colab": {
          "base_uri": "https://localhost:8080/"
        },
        "outputId": "fcb3adcc-1446-4275-fe8e-1efed924a03c"
      },
      "source": [
        "fashion_mnist = keras.datasets.fashion_mnist #cargar fashion mnist\n",
        "(X_train_full, y_train_full), (X_test, y_test) = fashion_mnist.load_data()"
      ],
      "execution_count": null,
      "outputs": [
        {
          "output_type": "stream",
          "name": "stdout",
          "text": [
            "Downloading data from https://storage.googleapis.com/tensorflow/tf-keras-datasets/train-labels-idx1-ubyte.gz\n",
            "29515/29515 [==============================] - 0s 0us/step\n",
            "Downloading data from https://storage.googleapis.com/tensorflow/tf-keras-datasets/train-images-idx3-ubyte.gz\n",
            "26421880/26421880 [==============================] - 0s 0us/step\n",
            "Downloading data from https://storage.googleapis.com/tensorflow/tf-keras-datasets/t10k-labels-idx1-ubyte.gz\n",
            "5148/5148 [==============================] - 0s 0us/step\n",
            "Downloading data from https://storage.googleapis.com/tensorflow/tf-keras-datasets/t10k-images-idx3-ubyte.gz\n",
            "4422102/4422102 [==============================] - 0s 0us/step\n"
          ]
        }
      ]
    },
    {
      "cell_type": "markdown",
      "metadata": {
        "id": "8qDmXolS1B0u"
      },
      "source": [
        "El **conjunto de entrenamiento** contiene 60,000 imágenes en escala de grises, cada una de $28\\times 28$ píxeles:"
      ]
    },
    {
      "cell_type": "code",
      "metadata": {
        "id": "6YvrfWyu1B0u",
        "colab": {
          "base_uri": "https://localhost:8080/"
        },
        "outputId": "7a1f8561-e02a-4f24-a618-f224a97573bc"
      },
      "source": [
        "X_train_full.shape"
      ],
      "execution_count": null,
      "outputs": [
        {
          "output_type": "execute_result",
          "data": {
            "text/plain": [
              "(60000, 28, 28)"
            ]
          },
          "metadata": {},
          "execution_count": 10
        }
      ]
    },
    {
      "cell_type": "markdown",
      "metadata": {
        "id": "w18nX6bs1B0u"
      },
      "source": [
        "Cada intensidad de píxel se representa como un byte (0 a 255):"
      ]
    },
    {
      "cell_type": "code",
      "metadata": {
        "id": "E19KJL7R1B0u",
        "colab": {
          "base_uri": "https://localhost:8080/"
        },
        "outputId": "6e650b16-5ef7-4478-feb7-9d040a788adc"
      },
      "source": [
        "X_train_full.dtype"
      ],
      "execution_count": null,
      "outputs": [
        {
          "output_type": "execute_result",
          "data": {
            "text/plain": [
              "dtype('uint8')"
            ]
          },
          "metadata": {},
          "execution_count": 11
        }
      ]
    },
    {
      "cell_type": "markdown",
      "metadata": {
        "id": "S4CTSIJG1B0u"
      },
      "source": [
        "- Dividamos el **conjunto de entrenamiento** completo en un **conjunto de validación** y un conjunto de entrenamiento (*más pequeño*) mediante la estrategia de validación HoldOut.\n",
        "\n",
        "- También **escalamos las intensidades de píxeles hasta el rango 0-1** y las convertimos en flotantes, dividiéndolas por 255."
      ]
    },
    {
      "cell_type": "code",
      "metadata": {
        "id": "XC5i4UUm1B0u"
      },
      "source": [
        "X_valid, X_train = X_train_full[:5000] / 255., X_train_full[5000:] / 255.\n",
        "y_valid, y_train = y_train_full[:5000], y_train_full[5000:]\n",
        "X_test = X_test / 255."
      ],
      "execution_count": null,
      "outputs": []
    },
    {
      "cell_type": "markdown",
      "metadata": {
        "id": "Uyh8aycM1B0u"
      },
      "source": [
        "Se puede graficar una imagen usando la función *imshow()* de Matplotlib, con un mapa de color 'binario':"
      ]
    },
    {
      "cell_type": "code",
      "metadata": {
        "id": "TzA3vc261B0u",
        "colab": {
          "base_uri": "https://localhost:8080/",
          "height": 248
        },
        "outputId": "ad2298fe-5ba5-49bc-eeeb-c4f095b1adb6"
      },
      "source": [
        "plt.imshow(X_train[0], cmap=\"binary\")\n",
        "plt.axis('off')\n",
        "plt.show()"
      ],
      "execution_count": null,
      "outputs": [
        {
          "output_type": "display_data",
          "data": {
            "text/plain": [
              "<Figure size 432x288 with 1 Axes>"
            ],
            "image/png": "[encoded data removed]"
          },
          "metadata": {
            "needs_background": "light"
          }
        }
      ]
    },
    {
      "cell_type": "markdown",
      "metadata": {
        "id": "w5TRUkA91B0u"
      },
      "source": [
        "Las etiquetas son los ID de clase (representados como *uint8*), de 0 a 9:"
      ]
    },
    {
      "cell_type": "code",
      "metadata": {
        "id": "cqzew4nY1B0u",
        "colab": {
          "base_uri": "https://localhost:8080/"
        },
        "outputId": "58784579-6503-4dd5-ed38-bb33141860e0"
      },
      "source": [
        "y_train"
      ],
      "execution_count": null,
      "outputs": [
        {
          "output_type": "execute_result",
          "data": {
            "text/plain": [
              "array([4, 0, 7, ..., 3, 0, 5], dtype=uint8)"
            ]
          },
          "metadata": {},
          "execution_count": 14
        }
      ]
    },
    {
      "cell_type": "markdown",
      "metadata": {
        "id": "ysOXLzwS1B0u"
      },
      "source": [
        "Aquí están los nombres de clase correspondientes:"
      ]
    },
    {
      "cell_type": "code",
      "metadata": {
        "id": "hMdv-pGd1B0u"
      },
      "source": [
        "class_names = [\"T-shirt/top\", \"Trouser\", \"Pullover\", \"Dress\", \"Coat\",\n",
        "               \"Sandal\", \"Shirt\", \"Sneaker\", \"Bag\", \"Ankle boot\"]"
      ],
      "execution_count": null,
      "outputs": []
    },
    {
      "cell_type": "markdown",
      "metadata": {
        "id": "3H350kEh1B0u"
      },
      "source": [
        "Entonces, la primera imagen en el conjunto de entrenamiento es un abrigo:"
      ]
    },
    {
      "cell_type": "code",
      "metadata": {
        "id": "v-mFz1Hz1B0u",
        "colab": {
          "base_uri": "https://localhost:8080/",
          "height": 35
        },
        "outputId": "27ea9f7d-01c6-4341-d855-e9a4010a8fe1"
      },
      "source": [
        "class_names[y_train[0]]"
      ],
      "execution_count": null,
      "outputs": [
        {
          "output_type": "execute_result",
          "data": {
            "text/plain": [
              "'Coat'"
            ],
            "application/vnd.google.colaboratory.intrinsic+json": {
              "type": "string"
            }
          },
          "metadata": {},
          "execution_count": 16
        }
      ]
    },
    {
      "cell_type": "markdown",
      "metadata": {
        "id": "3HOEA15M1B0u"
      },
      "source": [
        "El **conjunto de validación** contiene 5,000 imágenes, y el **conjunto de prueba** contiene 10,000 imágenes:"
      ]
    },
    {
      "cell_type": "code",
      "metadata": {
        "id": "SeRb9Fef1B0u",
        "colab": {
          "base_uri": "https://localhost:8080/"
        },
        "outputId": "bfd9466d-4820-4846-e9e2-f29e1a36cd41"
      },
      "source": [
        "X_valid.shape"
      ],
      "execution_count": null,
      "outputs": [
        {
          "output_type": "execute_result",
          "data": {
            "text/plain": [
              "(5000, 28, 28)"
            ]
          },
          "metadata": {},
          "execution_count": 17
        }
      ]
    },
    {
      "cell_type": "code",
      "metadata": {
        "id": "fFhuz0sd1B0u",
        "colab": {
          "base_uri": "https://localhost:8080/"
        },
        "outputId": "85af677b-68fe-4408-9c96-72d2b8336614"
      },
      "source": [
        "X_test.shape"
      ],
      "execution_count": null,
      "outputs": [
        {
          "output_type": "execute_result",
          "data": {
            "text/plain": [
              "(10000, 28, 28)"
            ]
          },
          "metadata": {},
          "execution_count": 18
        }
      ]
    },
    {
      "cell_type": "markdown",
      "metadata": {
        "id": "4i4HVUNJ1B0u"
      },
      "source": [
        "Echemos un vistazo a una muestra de las imágenes en el conjunto de datos:"
      ]
    },
    {
      "cell_type": "code",
      "metadata": {
        "id": "BWPkwYcK1B0u",
        "colab": {
          "base_uri": "https://localhost:8080/",
          "height": 308
        },
        "outputId": "2d8fe7bc-9c1b-47be-ac4d-a1df37905f18"
      },
      "source": [
        "n_rows = 4\n",
        "n_cols = 10\n",
        "plt.figure(figsize=(n_cols * 1.2, n_rows * 1.2))\n",
        "for row in range(n_rows):\n",
        "    for col in range(n_cols):\n",
        "        index = n_cols * row + col\n",
        "        plt.subplot(n_rows, n_cols, index + 1)\n",
        "        plt.imshow(X_train[index], cmap=\"binary\", interpolation=\"nearest\")\n",
        "        plt.axis('off')\n",
        "        plt.title(class_names[y_train[index]], fontsize=12)\n",
        "plt.subplots_adjust(wspace=0.2, hspace=0.5)\n",
        "#save_fig('fashion_mnist_plot', tight_layout=False)\n",
        "plt.show()"
      ],
      "execution_count": null,
      "outputs": [
        {
          "output_type": "display_data",
          "data": {
            "text/plain": [
              "<Figure size 864x345.6 with 40 Axes>"
            ],
            "image/png": "[encoded data removed]"
          },
          "metadata": {
            "needs_background": "light"
          }
        }
      ]
    },
    {
      "cell_type": "markdown",
      "metadata": {
        "id": "KQ6263_K1B0v"
      },
      "source": [
        "## Crear el modelo usando la API secuencial\n",
        "\n",
        "- ¡Ahora construyamos la red neuronal!.\n",
        "\n",
        "- Se implementará un perceptrón multicapa (MLP por sus siglas en inglés), con dos capas ocultas:"
      ]
    },
    {
      "cell_type": "code",
      "metadata": {
        "id": "4FyGh93f1B0v"
      },
      "source": [
        "model = keras.models.Sequential()\n",
        "model.add(keras.layers.Flatten(input_shape=[28, 28]))#capa de aplanado->convierte imagen en vector\n",
        "model.add(keras.layers.Dense(300, activation=\"relu\"))#capa densa con 300 neuronas y función de activación relu\n",
        "model.add(keras.layers.Dense(100, activation=\"relu\"))\n",
        "model.add(keras.layers.Dense(10, activation=\"softmax\"))#la capa de salida utiliza una softmax"
      ],
      "execution_count": null,
      "outputs": []
    },
    {
      "cell_type": "markdown",
      "metadata": {
        "id": "ansMCOTB1B0v"
      },
      "source": [
        "Veamos este código línea por línea:\n",
        "- La primera línea crea un modelo secuencial. Este es el tipo más simple de modelo Keras, para redes neuronales que están compuestas de una sola pila de capas, conectadas secuencialmente. Esto se llama la **API secuencial**.\n",
        "\n",
        "- Luego, construimos la primera capa y la agregamos al modelo. Es una capa Flatten cuyo papel es simplemente convertir cada imagen de entrada en una matriz 1D. Alternativamente, puede agregar un keras.layers.InputLayer como la primera capa, estableciendo $shape = [28,28]$.\n",
        "\n",
        "- A continuación, agregamos una capa oculta densa con 300 neuronas. Utilizará la función de activación ReLU. Cada capa densa gestiona su propia matriz de peso, que contiene todos los pesos de conexión entre las neuronas y sus entradas. También gestiona un vector de términos de sesgo (uno por neurona).\n",
        "\n",
        "- A continuación, agregamos una segunda capa oculta densa con 100 neuronas, que también utiliza la función de activación ReLU.\n",
        "\n",
        "- Finalmente, agregamos una capa de salida densa con 10 neuronas (una por clase), usando la función de activación softmax (porque las clases son exclusivas).\n",
        "\n",
        "**Nota**: La activación softmax se puede entender como una generalización de la sigmoid para problemas multiclase, para estimar la probabilidad de membresia $\\hat{p}(A_c|\\mathbf{x})$:\n",
        "\n",
        "$${\\rm{softmax}}(\\mathbf{z})= \\left\\{\\sigma({z}_c)={e^{z_c}}/{\\sum\\nolimits_{k=1}^C e^{z_k}}\\right\\}$$\n",
        "donde $\\sigma(z_c)\\in[0,1]$ y $\\sum_{c=1}^C \\sigma(z_c)=1$.\n",
        "\n"
      ]
    },
    {
      "cell_type": "code",
      "metadata": {
        "id": "LZANNVvH1B0v"
      },
      "source": [
        "keras.backend.clear_session() #se sugiere limpiar la sesión para liberar los grafos computacionales\n",
        "np.random.seed(42) #se fija semilla de numpy y tf\n",
        "tf.random.set_seed(42)"
      ],
      "execution_count": null,
      "outputs": []
    },
    {
      "cell_type": "markdown",
      "metadata": {
        "id": "z98DX3KC1B0v"
      },
      "source": [
        "En lugar de agregar las capas una por una como acabamos de hacer, se puede **pasar una lista de capas al crear el modelo secuencial**:"
      ]
    },
    {
      "cell_type": "code",
      "metadata": {
        "id": "VtvPn8dR1B0v"
      },
      "source": [
        "model = keras.models.Sequential([\n",
        "    keras.layers.Flatten(input_shape=[28, 28]),\n",
        "    keras.layers.Dense(300, activation=\"relu\"),\n",
        "    keras.layers.Dense(100, activation=\"relu\"),\n",
        "    keras.layers.Dense(10, activation=\"softmax\")\n",
        "])"
      ],
      "execution_count": null,
      "outputs": []
    },
    {
      "cell_type": "code",
      "source": [
        "model.summary()"
      ],
      "metadata": {
        "colab": {
          "base_uri": "https://localhost:8080/"
        },
        "id": "EonLna3-uO4j",
        "outputId": "95b21381-9405-468c-c4ca-2491d9cc2a84"
      },
      "execution_count": null,
      "outputs": [
        {
          "output_type": "stream",
          "name": "stdout",
          "text": [
            "Model: \"sequential\"\n",
            "_________________________________________________________________\n",
            " Layer (type)                Output Shape              Param #   \n",
            "=================================================================\n",
            " flatten (Flatten)           (None, 784)               0         \n",
            "                                                                 \n",
            " dense (Dense)               (None, 300)               235500    \n",
            "                                                                 \n",
            " dense_1 (Dense)             (None, 100)               30100     \n",
            "                                                                 \n",
            " dense_2 (Dense)             (None, 10)                1010      \n",
            "                                                                 \n",
            "=================================================================\n",
            "Total params: 266,610\n",
            "Trainable params: 266,610\n",
            "Non-trainable params: 0\n",
            "_________________________________________________________________\n"
          ]
        }
      ]
    },
    {
      "cell_type": "markdown",
      "metadata": {
        "id": "pTTJ_HieBOPL"
      },
      "source": [
        "- Las capas quedan guardadas en un grafo computacional para facilitar el cálculo de derivadas automáticas y la paralelización en GPU/TPU."
      ]
    },
    {
      "cell_type": "code",
      "metadata": {
        "id": "NYBjmHaY1B0v",
        "colab": {
          "base_uri": "https://localhost:8080/"
        },
        "outputId": "73b3a522-b581-4ac2-d9cc-9ca246e5ed3b"
      },
      "source": [
        "model.layers"
      ],
      "execution_count": null,
      "outputs": [
        {
          "output_type": "execute_result",
          "data": {
            "text/plain": [
              "[<keras.layers.reshaping.flatten.Flatten at 0x7fefb4faa310>,\n",
              " <keras.layers.core.dense.Dense at 0x7fefb4faa640>,\n",
              " <keras.layers.core.dense.Dense at 0x7fefb4faa550>,\n",
              " <keras.layers.core.dense.Dense at 0x7ff0141c2fa0>]"
            ]
          },
          "metadata": {},
          "execution_count": 23
        }
      ]
    },
    {
      "cell_type": "markdown",
      "metadata": {
        "id": "7lT8tvGxBjtT"
      },
      "source": [
        "# Modelo y optimización en aprendizaje profundo\n",
        "\n",
        "- En general, un modelo de aprendizaje profundo se puede escribir como una función compuesta de la forma:\n",
        "\n",
        "$$\\hat{y}=(f_L\\circ f_{L-1}\\circ\\cdots\\circ f_1)(\\mathbf{x})$$\n",
        "\n",
        "donde $L$ representa el número de capas y:\n",
        "\n",
        "$$\\mathbf{z}_l=f_l(\\mathbf{z}_{l-1})=\\varphi(\\mathbf{z}_{l-1}\\mathbf{W}_{l}+\\mathbf{b}_l)$$\n",
        "donde $\\varphi(\\cdot)$ es una función de activación, $\\mathbf{W}_{l}\\in\\mathbb{R}^{Q_{l-1}\\times Q_{l}},$ $\\mathbf{b}_{l}\\in\\mathbb{R}^{Q_{l}},$ $\\mathbf{z}_l\\in\\mathbb{R}^{Q_l}$ y $Q_l$ representa la cantidad de neuronas en la $l$-ésima capa.\n",
        "\n",
        "- A partir del modelo planteado, se puede generar el siguiente problema de optimización:\n",
        "\n",
        "$$\\theta^* = \\arg\\min_{\\theta} \\mathbb{E}\\{\\mathcal{L}(y_n,\\hat{y}_n|\\theta): \\forall n \\in \\{1,2,\\dots,N\\}\\}$$\n",
        "donde $\\theta = \\{\\mathbf{W}_l,\\mathbf{b}_l\\}^L_{l=1}$ contiene el set de parámetros de la red y $\\mathcal{L}(\\cdot,\\cdot|\\theta)$ es una función de costo dada.\n",
        "\n"
      ]
    },
    {
      "cell_type": "markdown",
      "metadata": {
        "id": "YkyzLZZ2BbdC"
      },
      "source": [
        "- Se puede resumir la arquitectura y presentar mediante diagrama de bloques:"
      ]
    },
    {
      "cell_type": "code",
      "metadata": {
        "id": "zxNgppsk1B0v",
        "colab": {
          "base_uri": "https://localhost:8080/"
        },
        "outputId": "97b706b2-3114-4ca0-cf46-9f177554f6f5"
      },
      "source": [
        "model.summary() #resumen con numero de parámetros y entradas-salidas por capa"
      ],
      "execution_count": null,
      "outputs": [
        {
          "output_type": "stream",
          "name": "stdout",
          "text": [
            "Model: \"sequential\"\n",
            "_________________________________________________________________\n",
            " Layer (type)                Output Shape              Param #   \n",
            "=================================================================\n",
            " flatten (Flatten)           (None, 784)               0         \n",
            "                                                                 \n",
            " dense (Dense)               (None, 300)               235500    \n",
            "                                                                 \n",
            " dense_1 (Dense)             (None, 100)               30100     \n",
            "                                                                 \n",
            " dense_2 (Dense)             (None, 10)                1010      \n",
            "                                                                 \n",
            "=================================================================\n",
            "Total params: 266,610\n",
            "Trainable params: 266,610\n",
            "Non-trainable params: 0\n",
            "_________________________________________________________________\n"
          ]
        }
      ]
    },
    {
      "cell_type": "markdown",
      "source": [
        "+300 de bias (235500=784*300+300)"
      ],
      "metadata": {
        "id": "8LcRuxYnwVWm"
      }
    },
    {
      "cell_type": "code",
      "metadata": {
        "id": "VcCBKccr1B0v",
        "colab": {
          "base_uri": "https://localhost:8080/",
          "height": 533
        },
        "outputId": "15397f16-e90a-4304-9137-04c42fa3d511"
      },
      "source": [
        "keras.utils.plot_model(model, \"my_mnist_model.png\", show_shapes=True)"
      ],
      "execution_count": null,
      "outputs": [
        {
          "output_type": "execute_result",
          "data": {
            "image/png": "[encoded data removed]",
            "text/plain": [
              "<IPython.core.display.Image object>"
            ]
          },
          "metadata": {},
          "execution_count": 29
        }
      ]
    },
    {
      "cell_type": "code",
      "metadata": {
        "id": "4y05lLuu1B0v",
        "colab": {
          "base_uri": "https://localhost:8080/",
          "height": 35
        },
        "outputId": "d7a39093-8b55-4ad3-9e15-57c7632dd2e7"
      },
      "source": [
        "hidden1 = model.layers[1] #acceder a la primera capa densa\n",
        "hidden1.name"
      ],
      "execution_count": null,
      "outputs": [
        {
          "output_type": "execute_result",
          "data": {
            "text/plain": [
              "'dense'"
            ],
            "application/vnd.google.colaboratory.intrinsic+json": {
              "type": "string"
            }
          },
          "metadata": {},
          "execution_count": 30
        }
      ]
    },
    {
      "cell_type": "code",
      "metadata": {
        "id": "D1-IO-e41B0v",
        "colab": {
          "base_uri": "https://localhost:8080/"
        },
        "outputId": "d46e4eb3-b5bc-41ee-fefc-9c1b3e6f0aad"
      },
      "source": [
        "model.get_layer(hidden1.name) is hidden1 #también podemos acceder a la capa por su nombre"
      ],
      "execution_count": null,
      "outputs": [
        {
          "output_type": "execute_result",
          "data": {
            "text/plain": [
              "True"
            ]
          },
          "metadata": {},
          "execution_count": 31
        }
      ]
    },
    {
      "cell_type": "markdown",
      "metadata": {
        "id": "hFMPVlHQ1B0v"
      },
      "source": [
        "## Accediendo a los pesos y bias entrenados\n",
        "\n",
        "- Con el fin de favorecer el entrenamiento, los pesos de cada capa se inicializan de forma aleatoria. Los bias se inicializan en ceros."
      ]
    },
    {
      "cell_type": "code",
      "metadata": {
        "id": "ydJJzFgW1B0v"
      },
      "source": [
        "weights, biases = hidden1.get_weights()"
      ],
      "execution_count": null,
      "outputs": []
    },
    {
      "cell_type": "code",
      "metadata": {
        "id": "BeET1ABg1B0v",
        "colab": {
          "base_uri": "https://localhost:8080/"
        },
        "outputId": "bf581959-a167-4a5e-e039-79f56b1a65cc"
      },
      "source": [
        "weights"
      ],
      "execution_count": null,
      "outputs": [
        {
          "output_type": "execute_result",
          "data": {
            "text/plain": [
              "array([[ 0.02448617, -0.00877795, -0.02189048, ..., -0.02766046,\n",
              "         0.03859074, -0.06889391],\n",
              "       [ 0.00476504, -0.03105379, -0.0586676 , ...,  0.00602964,\n",
              "        -0.02763776, -0.04165364],\n",
              "       [-0.06189284, -0.06901957,  0.07102345, ..., -0.04238207,\n",
              "         0.07121518, -0.07331658],\n",
              "       ...,\n",
              "       [-0.03048757,  0.02155137, -0.05400612, ..., -0.00113463,\n",
              "         0.00228987,  0.05581069],\n",
              "       [ 0.07061854, -0.06960931,  0.07038955, ..., -0.00384101,\n",
              "         0.00034875,  0.02878492],\n",
              "       [-0.06022581,  0.01577859, -0.02585464, ..., -0.00527829,\n",
              "         0.00272203, -0.06793761]], dtype=float32)"
            ]
          },
          "metadata": {},
          "execution_count": 33
        }
      ]
    },
    {
      "cell_type": "code",
      "metadata": {
        "id": "xpgleO9R1B0v",
        "colab": {
          "base_uri": "https://localhost:8080/"
        },
        "outputId": "c37715bc-2bc8-4961-e8ce-ab365e5d19fa"
      },
      "source": [
        "weights.shape"
      ],
      "execution_count": null,
      "outputs": [
        {
          "output_type": "execute_result",
          "data": {
            "text/plain": [
              "(784, 300)"
            ]
          },
          "metadata": {},
          "execution_count": 34
        }
      ]
    },
    {
      "cell_type": "code",
      "metadata": {
        "id": "15i3_wnQ1B0v",
        "colab": {
          "base_uri": "https://localhost:8080/"
        },
        "outputId": "6e40bb29-2967-4b29-a66f-5545f6a04a81"
      },
      "source": [
        "biases"
      ],
      "execution_count": null,
      "outputs": [
        {
          "output_type": "execute_result",
          "data": {
            "text/plain": [
              "array([0., 0., 0., 0., 0., 0., 0., 0., 0., 0., 0., 0., 0., 0., 0., 0., 0.,\n",
              "       0., 0., 0., 0., 0., 0., 0., 0., 0., 0., 0., 0., 0., 0., 0., 0., 0.,\n",
              "       0., 0., 0., 0., 0., 0., 0., 0., 0., 0., 0., 0., 0., 0., 0., 0., 0.,\n",
              "       0., 0., 0., 0., 0., 0., 0., 0., 0., 0., 0., 0., 0., 0., 0., 0., 0.,\n",
              "       0., 0., 0., 0., 0., 0., 0., 0., 0., 0., 0., 0., 0., 0., 0., 0., 0.,\n",
              "       0., 0., 0., 0., 0., 0., 0., 0., 0., 0., 0., 0., 0., 0., 0., 0., 0.,\n",
              "       0., 0., 0., 0., 0., 0., 0., 0., 0., 0., 0., 0., 0., 0., 0., 0., 0.,\n",
              "       0., 0., 0., 0., 0., 0., 0., 0., 0., 0., 0., 0., 0., 0., 0., 0., 0.,\n",
              "       0., 0., 0., 0., 0., 0., 0., 0., 0., 0., 0., 0., 0., 0., 0., 0., 0.,\n",
              "       0., 0., 0., 0., 0., 0., 0., 0., 0., 0., 0., 0., 0., 0., 0., 0., 0.,\n",
              "       0., 0., 0., 0., 0., 0., 0., 0., 0., 0., 0., 0., 0., 0., 0., 0., 0.,\n",
              "       0., 0., 0., 0., 0., 0., 0., 0., 0., 0., 0., 0., 0., 0., 0., 0., 0.,\n",
              "       0., 0., 0., 0., 0., 0., 0., 0., 0., 0., 0., 0., 0., 0., 0., 0., 0.,\n",
              "       0., 0., 0., 0., 0., 0., 0., 0., 0., 0., 0., 0., 0., 0., 0., 0., 0.,\n",
              "       0., 0., 0., 0., 0., 0., 0., 0., 0., 0., 0., 0., 0., 0., 0., 0., 0.,\n",
              "       0., 0., 0., 0., 0., 0., 0., 0., 0., 0., 0., 0., 0., 0., 0., 0., 0.,\n",
              "       0., 0., 0., 0., 0., 0., 0., 0., 0., 0., 0., 0., 0., 0., 0., 0., 0.,\n",
              "       0., 0., 0., 0., 0., 0., 0., 0., 0., 0., 0.], dtype=float32)"
            ]
          },
          "metadata": {},
          "execution_count": 35
        }
      ]
    },
    {
      "cell_type": "code",
      "metadata": {
        "id": "zWDO9Aca1B0v",
        "colab": {
          "base_uri": "https://localhost:8080/"
        },
        "outputId": "2c3d1068-4c12-4357-960a-6164462c1e95"
      },
      "source": [
        "biases.shape"
      ],
      "execution_count": null,
      "outputs": [
        {
          "output_type": "execute_result",
          "data": {
            "text/plain": [
              "(300,)"
            ]
          },
          "metadata": {},
          "execution_count": 36
        }
      ]
    },
    {
      "cell_type": "markdown",
      "metadata": {
        "id": "DBB9x3QT1B0v"
      },
      "source": [
        "### Compilando el modelo\n",
        "\n",
        "- Después de crear un modelo, debe llamar a su método *compile()* para especificar la función de pérdida y el optimizador a utilizar.\n",
        "\n",
        "- Opcionalmente, también puede especificar una lista de métricas adicionales para calcular durante el entrenamiento y la evaluación.\n",
        "\n",
        "- En general, la función de costo se elige en términos de la tarea (rango de la función), y se buscan funciones de costo suaves, que no tengan problemas con sus derivadas, con el objetivo de aplicar gradiente descendiente por mini-lotes mediante el algoritmo de backpropagation.\n",
        "\n",
        "\n",
        "- **Esquema general de aprendizaje por mini-lotes:**\n",
        "\n",
        "![minibatch](https://github.com/amalvarezme/AnaliticaDatos/blob/master/5_Aprendizaje_Profundo/minibatch.png?raw=1)\n",
        "\n",
        "*Nota:* en general las muestras en un lote se escogen de forma aleatoria.\n",
        "\n",
        "- **Ilustración algoritmo backpropagation:**\n",
        "\n",
        "![gifbp](https://thumbs.gfycat.com/FickleHorribleBlackfootedferret-small.gif)"
      ]
    },
    {
      "cell_type": "code",
      "metadata": {
        "id": "GFUtDIrc1B0w"
      },
      "source": [
        "model.compile(loss=\"sparse_categorical_crossentropy\",\n",
        "              optimizer=\"sgd\",\n",
        "              metrics=[\"accuracy\"])"
      ],
      "execution_count": null,
      "outputs": []
    },
    {
      "cell_type": "markdown",
      "metadata": {
        "id": "z6b3JbT2uw8m"
      },
      "source": [
        "- Keras proporciona varios tipos de [funciones de costo](https://keras.io/api/losses/) ya implementadas.\n",
        "\n",
        "- Para tareas de regresión es común trabajar con el error cuadrático medio y el error absoluto medio:\n",
        "\n",
        "$$mse(\\mathbf{y}_n,\\hat{\\mathbf{y}}_n)= \\|\\mathbf{y}_n-\\hat{\\mathbf{y}}_n\\|_2$$\n",
        "\n",
        "$$mae(\\mathbf{y}_n,\\hat{\\mathbf{y}}_n)= \\|\\mathbf{y}_n-\\hat{\\mathbf{y}}_n\\|_1$$\n",
        "\n",
        "- Para tareas de clasificación, es común trabajar con medidas de información, evitando las medidas clasicas de acierto (conteos) basadas en la función delta (problemas en las derivadas).\n",
        "\n",
        "- En este sentido, la cross-entropia es ampliamente usada (tenga encuenta que Keras provee cross entropia binaria y categórica, esta última en sus versiones sparse - codificación 1 C, o no sparse - codificación ordinal de las salidas):\n",
        "\n",
        "$$H(\\mathbf{y}_n,\\hat{\\mathbf{y}}_n)= -\\frac{1}{N}\\sum^N_{n=1}\\sum^C_{c=1}y_{n,c}\\log(\\hat{y}_{n,c})$$\n",
        "\n",
        "donde $y_{n,c}\\in \\mathbf{y}$ es la etiqueta real de la muestra $n$ en la clase $c$ en codificación 1-C,  $\\hat{y}_{n,c}\\in \\hat{\\mathbf{y}}$ es la etiqueta estimada de la muestra $n$ en la clase $c$. Note que $\\hat{\\mathbf{y}},{\\mathbf{y}}\\in[0,1]^C$, y $\\sum_c\\hat{y}_{n,c} = \\sum_c y _{n,c} = 1.$"
      ]
    },
    {
      "cell_type": "markdown",
      "metadata": {
        "id": "ykjvjkmL1B0w"
      },
      "source": [
        "## Entrenando y evaluando el modelo\n",
        "Ahora el modelo está listo para ser entrenado. Para esto, simplemente necesitamos llamar a su método *fit()*.\n",
        "- Le pasamos las características de entrada (X_train) y las clases de destino (y_train), así como la cantidad de épocas para entrenar (o de lo contrario, sería predeterminado a solo 1, lo que definitivamente no sería suficiente para converger en una buena solución).\n",
        "- También pasamos un conjunto de validación (esto es opcional): Keras medirá la pérdida y las métricas adicionales en este conjunto al final de cada época, lo cual es muy útil para ver qué tan bien se desempeña realmente el modelo.\n",
        "- **NOTA:** si el rendimiento en el entrenamiento es mucho mejor que en el conjunto de validación, su modelo probablemente esté sobreajustando el conjunto de entrenamiento (o hay un error, como una falta de coincidencia de datos entre el conjunto de entrenamiento y el conjunto de validación).\n",
        "\n",
        "\n",
        "**Nota**: El paquete Tensorflow permite trabajar mediante grafos computacionales optimizados mediante [diferenciación automática](https://github.com/amalvarezme/AnaliticaDatos/blob/master/5_Aprendizaje_Profundo/2_Autodiff.pdf), lo que favorece su escalamiento a grandes cantidades de datos (mediante gradiente descendiente por mini-lotes) y de parámetros."
      ]
    },
    {
      "cell_type": "code",
      "metadata": {
        "id": "wtlqE1OE1B0w",
        "colab": {
          "base_uri": "https://localhost:8080/"
        },
        "outputId": "c6450f34-44b2-48c4-fbb0-c8e4b086f3ff"
      },
      "source": [
        "history = model.fit(X_train, y_train, epochs=20, batch_size = 10,\n",
        "                    validation_data=(X_valid, y_valid))"
      ],
      "execution_count": null,
      "outputs": [
        {
          "output_type": "stream",
          "name": "stdout",
          "text": [
            "Epoch 1/20\n",
            "5500/5500 [==============================] - 13s 2ms/step - loss: 0.3665 - accuracy: 0.8678 - val_loss: 0.3611 - val_accuracy: 0.8692\n",
            "Epoch 2/20\n",
            "5500/5500 [==============================] - 13s 2ms/step - loss: 0.3410 - accuracy: 0.8758 - val_loss: 0.3295 - val_accuracy: 0.8836\n",
            "Epoch 3/20\n",
            "5500/5500 [==============================] - 13s 2ms/step - loss: 0.3231 - accuracy: 0.8813 - val_loss: 0.3824 - val_accuracy: 0.8586\n",
            "Epoch 4/20\n",
            "5500/5500 [==============================] - 14s 2ms/step - loss: 0.3075 - accuracy: 0.8868 - val_loss: 0.3212 - val_accuracy: 0.8854\n",
            "Epoch 5/20\n",
            "5500/5500 [==============================] - 13s 2ms/step - loss: 0.2959 - accuracy: 0.8911 - val_loss: 0.3128 - val_accuracy: 0.8838\n",
            "Epoch 6/20\n",
            "5500/5500 [==============================] - 13s 2ms/step - loss: 0.2823 - accuracy: 0.8965 - val_loss: 0.3093 - val_accuracy: 0.8888\n",
            "Epoch 7/20\n",
            "5500/5500 [==============================] - 13s 2ms/step - loss: 0.2725 - accuracy: 0.8994 - val_loss: 0.3078 - val_accuracy: 0.8900\n",
            "Epoch 8/20\n",
            "5500/5500 [==============================] - 13s 2ms/step - loss: 0.2629 - accuracy: 0.9032 - val_loss: 0.3126 - val_accuracy: 0.8884\n",
            "Epoch 9/20\n",
            "5500/5500 [==============================] - 13s 2ms/step - loss: 0.2544 - accuracy: 0.9067 - val_loss: 0.3047 - val_accuracy: 0.8896\n",
            "Epoch 10/20\n",
            "5500/5500 [==============================] - 13s 2ms/step - loss: 0.2462 - accuracy: 0.9088 - val_loss: 0.3000 - val_accuracy: 0.8904\n",
            "Epoch 11/20\n",
            "5500/5500 [==============================] - 13s 2ms/step - loss: 0.2396 - accuracy: 0.9113 - val_loss: 0.2944 - val_accuracy: 0.8960\n",
            "Epoch 12/20\n",
            "5500/5500 [==============================] - 13s 2ms/step - loss: 0.2316 - accuracy: 0.9143 - val_loss: 0.3015 - val_accuracy: 0.8904\n",
            "Epoch 13/20\n",
            "5500/5500 [==============================] - 13s 2ms/step - loss: 0.2252 - accuracy: 0.9175 - val_loss: 0.2933 - val_accuracy: 0.8958\n",
            "Epoch 14/20\n",
            "5500/5500 [==============================] - 13s 2ms/step - loss: 0.2200 - accuracy: 0.9185 - val_loss: 0.2934 - val_accuracy: 0.8916\n",
            "Epoch 15/20\n",
            "5500/5500 [==============================] - 13s 2ms/step - loss: 0.2121 - accuracy: 0.9218 - val_loss: 0.2971 - val_accuracy: 0.8934\n",
            "Epoch 16/20\n",
            "5500/5500 [==============================] - 13s 2ms/step - loss: 0.2061 - accuracy: 0.9243 - val_loss: 0.2953 - val_accuracy: 0.8942\n",
            "Epoch 17/20\n",
            "5500/5500 [==============================] - 14s 3ms/step - loss: 0.2022 - accuracy: 0.9255 - val_loss: 0.3117 - val_accuracy: 0.8906\n",
            "Epoch 18/20\n",
            "5500/5500 [==============================] - 13s 2ms/step - loss: 0.1953 - accuracy: 0.9272 - val_loss: 0.2909 - val_accuracy: 0.9014\n",
            "Epoch 19/20\n",
            "5500/5500 [==============================] - 13s 2ms/step - loss: 0.1917 - accuracy: 0.9299 - val_loss: 0.2968 - val_accuracy: 0.8950\n",
            "Epoch 20/20\n",
            "5500/5500 [==============================] - 13s 2ms/step - loss: 0.1849 - accuracy: 0.9311 - val_loss: 0.3162 - val_accuracy: 0.8906\n"
          ]
        }
      ]
    },
    {
      "cell_type": "markdown",
      "metadata": {
        "id": "0vMTvblw1B0w"
      },
      "source": [
        "Puede ver que la **pérdida de entrenamiento se redujo**, lo cual es una buena señal, y el rendimiento del conjunto en el conjunto de validación no está muy lejos del de entrenamiento, por lo que no parece haber demasiado sobreajuste."
      ]
    },
    {
      "cell_type": "markdown",
      "metadata": {
        "id": "nGqbcUXG1B0w"
      },
      "source": [
        "El método *fit()* devuelve un objeto **history** que contiene:\n",
        "1. Los parámetros de entrenamiento (*history.params*),\n",
        "2. La lista de épocas por las que pasó (*history.epoch*) y,\n",
        "3. Lo más importante, un diccionario (*history.history*) que contiene la pérdida y las métricas adicionales que midió al final de cada época en el conjunto de entrenamiento y en el conjunto de validación (si corresponde)."
      ]
    },
    {
      "cell_type": "code",
      "metadata": {
        "id": "iR6bfl871B0w",
        "colab": {
          "base_uri": "https://localhost:8080/"
        },
        "outputId": "1c6a2e37-0da1-45d3-d05d-0f217aed1e22"
      },
      "source": [
        "history.params"
      ],
      "execution_count": null,
      "outputs": [
        {
          "output_type": "execute_result",
          "data": {
            "text/plain": [
              "{'verbose': 1, 'epochs': 20, 'steps': 5500}"
            ]
          },
          "metadata": {},
          "execution_count": 40
        }
      ]
    },
    {
      "cell_type": "code",
      "metadata": {
        "id": "UG0Y-Pu61B0w",
        "colab": {
          "base_uri": "https://localhost:8080/"
        },
        "outputId": "392474c8-1a77-4004-8bb6-36e7dc201c06"
      },
      "source": [
        "print(history.epoch)"
      ],
      "execution_count": null,
      "outputs": [
        {
          "output_type": "stream",
          "name": "stdout",
          "text": [
            "[0, 1, 2, 3, 4, 5, 6, 7, 8, 9, 10, 11, 12, 13, 14, 15, 16, 17, 18, 19]\n"
          ]
        }
      ]
    },
    {
      "cell_type": "code",
      "metadata": {
        "id": "FvfXwBh61B0w",
        "colab": {
          "base_uri": "https://localhost:8080/"
        },
        "outputId": "3367348f-90e8-43b8-c755-e0ec3ae968af"
      },
      "source": [
        "history.history.keys()"
      ],
      "execution_count": null,
      "outputs": [
        {
          "output_type": "execute_result",
          "data": {
            "text/plain": [
              "dict_keys(['loss', 'accuracy', 'val_loss', 'val_accuracy'])"
            ]
          },
          "metadata": {},
          "execution_count": 42
        }
      ]
    },
    {
      "cell_type": "code",
      "metadata": {
        "id": "Jw4QkzqW1B0w",
        "colab": {
          "base_uri": "https://localhost:8080/",
          "height": 324
        },
        "outputId": "edc61d2f-f4cd-4193-cae6-4732296bad45"
      },
      "source": [
        "import pandas as pd\n",
        "\n",
        "pd.DataFrame(history.history).plot(figsize=(8, 5))\n",
        "plt.grid(True)\n",
        "plt.gca().set_ylim(0, 1)\n",
        "#save_fig(\"keras_learning_curves_plot\")\n",
        "plt.show()"
      ],
      "execution_count": null,
      "outputs": [
        {
          "output_type": "display_data",
          "data": {
            "text/plain": [
              "<Figure size 576x360 with 1 Axes>"
            ],
            "image/png": "[encoded data removed]"
          },
          "metadata": {
            "needs_background": "light"
          }
        }
      ]
    },
    {
      "cell_type": "markdown",
      "metadata": {
        "id": "qANIpn3Y1B0w"
      },
      "source": [
        "Una vez que esté **satisfecho con la precisión de validación de su modelo**, debe evaluarla en el *conjunto de prueba* (test) para estimar el error de generalización antes de implementar el modelo en producción:"
      ]
    },
    {
      "cell_type": "code",
      "metadata": {
        "id": "DYDx6mUm1B0w",
        "colab": {
          "base_uri": "https://localhost:8080/"
        },
        "outputId": "57036bbc-ba8c-406e-bcb7-d43c4a101a7e"
      },
      "source": [
        "model.evaluate(X_test, y_test)"
      ],
      "execution_count": null,
      "outputs": [
        {
          "output_type": "stream",
          "name": "stdout",
          "text": [
            "313/313 [==============================] - 1s 2ms/step - loss: 0.3488 - accuracy: 0.8793\n"
          ]
        },
        {
          "output_type": "execute_result",
          "data": {
            "text/plain": [
              "[0.34880805015563965, 0.8792999982833862]"
            ]
          },
          "metadata": {},
          "execution_count": 44
        }
      ]
    },
    {
      "cell_type": "markdown",
      "metadata": {
        "id": "1ZhgOs-G1B0w"
      },
      "source": [
        "- Como vimos anteriormente, es **común obtener un rendimiento ligeramente inferior en el conjunto de prueba** que en el conjunto de validación, porque los hiperparámetros están sintonizados en el conjunto de validación, no en el conjunto de prueba."
      ]
    },
    {
      "cell_type": "markdown",
      "metadata": {
        "id": "uWCWiq9t1B0w"
      },
      "source": [
        "## Usando el modelo para hacer predicciones\n",
        "A continuación, podemos usar el método *predict()* del modelo para hacer predicciones sobre nuevas instancias. Como no tenemos instancias nuevas reales, solo usaremos las primeras 3 instancias del **conjunto de prueba**:\n",
        "\n",
        "**Nota**: recuerde que configuaramos la red para que a la salida nos arroje la probabilidad de membresia por clase, por eso nos arroja un vector en 0 y 1."
      ]
    },
    {
      "cell_type": "code",
      "metadata": {
        "id": "p160i_gv1B0w",
        "colab": {
          "base_uri": "https://localhost:8080/"
        },
        "outputId": "fe11f0e2-2d2d-46e0-9d66-08c13adf444c"
      },
      "source": [
        "X_new = X_test[:10]\n",
        "y_proba = model.predict(X_new)\n",
        "y_proba.round(2)"
      ],
      "execution_count": null,
      "outputs": [
        {
          "output_type": "stream",
          "name": "stdout",
          "text": [
            "1/1 [==============================] - 0s 69ms/step\n"
          ]
        },
        {
          "output_type": "execute_result",
          "data": {
            "text/plain": [
              "array([[0.  , 0.  , 0.  , 0.  , 0.  , 0.  , 0.  , 0.01, 0.  , 0.99],\n",
              "       [0.  , 0.  , 0.99, 0.  , 0.01, 0.  , 0.  , 0.  , 0.  , 0.  ],\n",
              "       [0.  , 1.  , 0.  , 0.  , 0.  , 0.  , 0.  , 0.  , 0.  , 0.  ],\n",
              "       [0.  , 1.  , 0.  , 0.  , 0.  , 0.  , 0.  , 0.  , 0.  , 0.  ],\n",
              "       [0.04, 0.  , 0.  , 0.  , 0.  , 0.  , 0.95, 0.  , 0.  , 0.  ],\n",
              "       [0.  , 1.  , 0.  , 0.  , 0.  , 0.  , 0.  , 0.  , 0.  , 0.  ],\n",
              "       [0.  , 0.  , 0.  , 0.  , 1.  , 0.  , 0.  , 0.  , 0.  , 0.  ],\n",
              "       [0.  , 0.  , 0.  , 0.  , 0.02, 0.  , 0.98, 0.  , 0.  , 0.  ],\n",
              "       [0.  , 0.  , 0.  , 0.  , 0.  , 1.  , 0.  , 0.  , 0.  , 0.  ],\n",
              "       [0.  , 0.  , 0.  , 0.  , 0.  , 0.  , 0.  , 1.  , 0.  , 0.  ]],\n",
              "      dtype=float32)"
            ]
          },
          "metadata": {},
          "execution_count": 45
        }
      ]
    },
    {
      "cell_type": "code",
      "metadata": {
        "id": "3CNd3s5l1B0w",
        "colab": {
          "base_uri": "https://localhost:8080/"
        },
        "outputId": "bc5481b1-f5ec-463c-c02e-c85d4e1f9a03"
      },
      "source": [
        "y_pred = model.predict(X_new).argmax(axis=1) #podemos utilizar argmax para estimar la salida ordinal\n",
        "y_pred"
      ],
      "execution_count": null,
      "outputs": [
        {
          "output_type": "stream",
          "name": "stdout",
          "text": [
            "1/1 [==============================] - 0s 17ms/step\n"
          ]
        },
        {
          "output_type": "execute_result",
          "data": {
            "text/plain": [
              "array([9, 2, 1, 1, 6, 1, 4, 6, 5, 7])"
            ]
          },
          "metadata": {},
          "execution_count": 46
        }
      ]
    },
    {
      "cell_type": "code",
      "metadata": {
        "id": "MHHTK1Wa1B0w",
        "colab": {
          "base_uri": "https://localhost:8080/"
        },
        "outputId": "2e7701d4-8598-4e1f-a7c4-6f84cdce9635"
      },
      "source": [
        "np.array(class_names)[y_pred]"
      ],
      "execution_count": null,
      "outputs": [
        {
          "output_type": "execute_result",
          "data": {
            "text/plain": [
              "array(['Ankle boot', 'Pullover', 'Trouser', 'Trouser', 'Shirt', 'Trouser',\n",
              "       'Coat', 'Shirt', 'Sandal', 'Sneaker'], dtype='<U11')"
            ]
          },
          "metadata": {},
          "execution_count": 47
        }
      ]
    },
    {
      "cell_type": "code",
      "metadata": {
        "id": "7RQxqMXl1B0x",
        "colab": {
          "base_uri": "https://localhost:8080/"
        },
        "outputId": "b3a83f00-3788-4698-ff2b-1d6afcd0046e"
      },
      "source": [
        "y_new = y_test[:3]\n",
        "y_new"
      ],
      "execution_count": null,
      "outputs": [
        {
          "output_type": "execute_result",
          "data": {
            "text/plain": [
              "array([9, 2, 1], dtype=uint8)"
            ]
          },
          "metadata": {},
          "execution_count": 48
        }
      ]
    },
    {
      "cell_type": "code",
      "metadata": {
        "id": "KQDyePBq1B0x",
        "colab": {
          "base_uri": "https://localhost:8080/",
          "height": 108
        },
        "outputId": "fd1a4e21-43b4-44c2-aa8a-c5a7d2d49f14"
      },
      "source": [
        "plt.figure(figsize=(13, 2.4))\n",
        "for index, image in enumerate(X_new):\n",
        "    plt.subplot(1, 10, index + 1)\n",
        "    plt.imshow(image, cmap=\"binary\", interpolation=\"nearest\")\n",
        "    plt.axis('off')\n",
        "    plt.title(class_names[y_test[index]], fontsize=12)\n",
        "plt.subplots_adjust(wspace=0.2, hspace=0.5)\n",
        "#save_fig('fashion_mnist_images_plot', tight_layout=False)\n",
        "plt.show()"
      ],
      "execution_count": null,
      "outputs": [
        {
          "output_type": "display_data",
          "data": {
            "text/plain": [
              "<Figure size 936x172.8 with 10 Axes>"
            ],
            "image/png": "[encoded data removed]"
          },
          "metadata": {
            "needs_background": "light"
          }
        }
      ]
    },
    {
      "cell_type": "markdown",
      "metadata": {
        "id": "kPgq1Zr41B0x"
      },
      "source": [
        "## Regresión MLP\n",
        "\n",
        "- Podemos utilizar un esquema de aprendizaje profundo, fijando la salida en activación lineal o ReLU para trabajar un problema de regresión.\n",
        "\n",
        "- Carguemos, dividamos y escalemos el conjunto de datos de [vivienda de California](https://www.kaggle.com/camnugent/california-housing-prices):"
      ]
    },
    {
      "cell_type": "code",
      "metadata": {
        "id": "LOarlmLq1B0x"
      },
      "source": [
        "from sklearn.datasets import fetch_california_housing\n",
        "from sklearn.model_selection import train_test_split\n",
        "from sklearn.preprocessing import StandardScaler\n",
        "\n",
        "housing = fetch_california_housing()\n",
        "\n",
        "X_train_full, X_test, y_train_full, y_test = train_test_split(housing.data, housing.target, random_state=42)\n",
        "X_train, X_valid, y_train, y_valid = train_test_split(X_train_full, y_train_full, random_state=42)\n",
        "\n",
        "scaler = StandardScaler()\n",
        "X_train = scaler.fit_transform(X_train)\n",
        "X_valid = scaler.transform(X_valid)\n",
        "X_test = scaler.transform(X_test)"
      ],
      "execution_count": null,
      "outputs": []
    },
    {
      "cell_type": "code",
      "metadata": {
        "id": "-TMcTJY21B0x"
      },
      "source": [
        "np.random.seed(42)\n",
        "tf.random.set_seed(42)"
      ],
      "execution_count": null,
      "outputs": []
    },
    {
      "cell_type": "markdown",
      "metadata": {
        "id": "rfUOCrrN3KUA"
      },
      "source": [
        "- Como tenemos una única salida tipo de regresión, la última capa tiene una única neurona con activación lineal (por defecto las capas dense vienen con activación lineal)."
      ]
    },
    {
      "cell_type": "code",
      "metadata": {
        "id": "UiHzk7Vd1B0x",
        "colab": {
          "base_uri": "https://localhost:8080/"
        },
        "outputId": "7a52488f-cbdf-443f-8aa6-2fa7b4299a5f"
      },
      "source": [
        "model = keras.models.Sequential([\n",
        "    keras.layers.Dense(30, activation=\"relu\", input_shape=X_train.shape[1:]),\n",
        "    keras.layers.Dense(1) #se fija una única con activacion lineal\n",
        "])\n",
        "model.compile(loss=\"mean_squared_error\", optimizer=keras.optimizers.SGD(lr=1e-3))\n",
        "history  = model.fit(X_train, y_train, epochs=20, validation_data=(X_valid, y_valid))\n",
        "mse_test = model.evaluate(X_test, y_test)\n",
        "X_new    = X_test[:3]\n",
        "y_pred   = model.predict(X_new)"
      ],
      "execution_count": null,
      "outputs": [
        {
          "output_type": "stream",
          "name": "stdout",
          "text": [
            "Epoch 1/20\n"
          ]
        },
        {
          "output_type": "stream",
          "name": "stderr",
          "text": [
            "/usr/local/lib/python3.8/dist-packages/keras/optimizers/optimizer_v2/gradient_descent.py:108: UserWarning: The `lr` argument is deprecated, use `learning_rate` instead.\n",
            "  super(SGD, self).__init__(name, **kwargs)\n"
          ]
        },
        {
          "output_type": "stream",
          "name": "stdout",
          "text": [
            "363/363 [==============================] - 1s 3ms/step - loss: 1.6419 - val_loss: 0.8560\n",
            "Epoch 2/20\n",
            "363/363 [==============================] - 1s 3ms/step - loss: 0.7047 - val_loss: 0.6531\n",
            "Epoch 3/20\n",
            "363/363 [==============================] - 1s 3ms/step - loss: 0.6345 - val_loss: 0.6099\n",
            "Epoch 4/20\n",
            "363/363 [==============================] - 1s 3ms/step - loss: 0.5977 - val_loss: 0.5658\n",
            "Epoch 5/20\n",
            "363/363 [==============================] - 1s 3ms/step - loss: 0.5706 - val_loss: 0.5355\n",
            "Epoch 6/20\n",
            "363/363 [==============================] - 1s 3ms/step - loss: 0.5472 - val_loss: 0.5173\n",
            "Epoch 7/20\n",
            "363/363 [==============================] - 1s 3ms/step - loss: 0.5288 - val_loss: 0.5081\n",
            "Epoch 8/20\n",
            "363/363 [==============================] - 1s 3ms/step - loss: 0.5130 - val_loss: 0.4799\n",
            "Epoch 9/20\n",
            "363/363 [==============================] - 1s 3ms/step - loss: 0.4992 - val_loss: 0.4690\n",
            "Epoch 10/20\n",
            "363/363 [==============================] - 1s 3ms/step - loss: 0.4875 - val_loss: 0.4656\n",
            "Epoch 11/20\n",
            "363/363 [==============================] - 1s 3ms/step - loss: 0.4777 - val_loss: 0.4482\n",
            "Epoch 12/20\n",
            "363/363 [==============================] - 1s 3ms/step - loss: 0.4688 - val_loss: 0.4479\n",
            "Epoch 13/20\n",
            "363/363 [==============================] - 1s 3ms/step - loss: 0.4615 - val_loss: 0.4296\n",
            "Epoch 14/20\n",
            "363/363 [==============================] - 1s 3ms/step - loss: 0.4547 - val_loss: 0.4233\n",
            "Epoch 15/20\n",
            "363/363 [==============================] - 1s 3ms/step - loss: 0.4488 - val_loss: 0.4176\n",
            "Epoch 16/20\n",
            "363/363 [==============================] - 1s 3ms/step - loss: 0.4435 - val_loss: 0.4123\n",
            "Epoch 17/20\n",
            "363/363 [==============================] - 1s 3ms/step - loss: 0.4389 - val_loss: 0.4071\n",
            "Epoch 18/20\n",
            "363/363 [==============================] - 1s 3ms/step - loss: 0.4347 - val_loss: 0.4037\n",
            "Epoch 19/20\n",
            "363/363 [==============================] - 1s 3ms/step - loss: 0.4306 - val_loss: 0.4000\n",
            "Epoch 20/20\n",
            "363/363 [==============================] - 1s 3ms/step - loss: 0.4273 - val_loss: 0.3969\n",
            "162/162 [==============================] - 0s 2ms/step - loss: 0.4212\n",
            "1/1 [==============================] - 0s 35ms/step\n"
          ]
        }
      ]
    },
    {
      "cell_type": "code",
      "metadata": {
        "id": "hYprlIuU1B0x",
        "colab": {
          "base_uri": "https://localhost:8080/",
          "height": 269
        },
        "outputId": "86559c97-5bc0-4bc3-ba44-2bce871cc5c1"
      },
      "source": [
        "plt.plot(pd.DataFrame(history.history))\n",
        "plt.grid(True)\n",
        "plt.gca().set_ylim(0, 1)\n",
        "plt.show()"
      ],
      "execution_count": null,
      "outputs": [
        {
          "output_type": "display_data",
          "data": {
            "text/plain": [
              "<Figure size 432x288 with 1 Axes>"
            ],
            "image/png": "[encoded data removed]"
          },
          "metadata": {
            "needs_background": "light"
          }
        }
      ]
    },
    {
      "cell_type": "code",
      "metadata": {
        "id": "ydV71rT-1B0x",
        "colab": {
          "base_uri": "https://localhost:8080/"
        },
        "outputId": "9858c00b-f6da-463f-8cfd-9dad7e3bcdb6"
      },
      "source": [
        "y_pred"
      ],
      "execution_count": null,
      "outputs": [
        {
          "output_type": "execute_result",
          "data": {
            "text/plain": [
              "array([[0.38856632],\n",
              "       [1.6792021 ],\n",
              "       [3.1022794 ]], dtype=float32)"
            ]
          },
          "metadata": {},
          "execution_count": 54
        }
      ]
    },
    {
      "cell_type": "code",
      "source": [
        "y_test[:3]"
      ],
      "metadata": {
        "colab": {
          "base_uri": "https://localhost:8080/"
        },
        "id": "ZWZ48Uxf2XJ1",
        "outputId": "2103902c-91c3-4d9e-fcab-f8967546eb5c"
      },
      "execution_count": null,
      "outputs": [
        {
          "output_type": "execute_result",
          "data": {
            "text/plain": [
              "array([0.477  , 0.458  , 5.00001])"
            ]
          },
          "metadata": {},
          "execution_count": 56
        }
      ]
    },
    {
      "cell_type": "markdown",
      "metadata": {
        "id": "q2OJnS5g1B0x"
      },
      "source": [
        "Como puede ver, la API secuencial es **bastante fácil de usar**. Sin embargo, aunque los modelos secuenciales son extremadamente comunes, a veces es útil construir redes neuronales con topologías más complejas, o con múltiples entradas o salidas. Para este propósito, Keras ofrece la **API funcional**."
      ]
    },
    {
      "cell_type": "markdown",
      "metadata": {
        "id": "rltcPBYL3VZH"
      },
      "source": [
        "# Ejercicio:\n",
        "\n",
        "- Configure el entorno de Colab para trabajar con GPU (Ver pestaña entorno de ejecución). Repita el entrenamiento del modelo de clasificación Fashion mnist para batch size en 32, 64, 128, 256, y 512. Reporte una tabla con los rendimientos sobre el conjunto de test y el tiempo promedio de cómputo por época.\n",
        "\n",
        "- Repita el procedimiento del punto anterior configurando Colab para trabajar con TPU."
      ]
    },
    {
      "cell_type": "code",
      "metadata": {
        "id": "bmnOPEqdLifI"
      },
      "source": [],
      "execution_count": null,
      "outputs": []
    }
  ]
}
